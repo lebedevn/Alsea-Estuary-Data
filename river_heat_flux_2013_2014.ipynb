{
 "cells": [
  {
   "cell_type": "code",
   "execution_count": 1,
   "metadata": {},
   "outputs": [
    {
     "name": "stderr",
     "output_type": "stream",
     "text": [
      "c:\\Users\\nvleb\\OneDrive - Oregon State University\\Desktop\\Python\\AlseaEstuaryData\\Alsea-Estuary-Data\\coare36vn_zrf_et.py:750: RuntimeWarning: invalid value encountered in power\n",
      "  psi = - ((1 + 0.6667 * zeta) ** 1.5 + np.multiply(0.6667 * (zeta - 14.28),np.exp(- dzeta)) + 8.525)\n",
      "c:\\Users\\nvleb\\OneDrive - Oregon State University\\Desktop\\Python\\AlseaEstuaryData\\Alsea-Estuary-Data\\coare36vn_zrf_et.py:715: RuntimeWarning: invalid value encountered in power\n",
      "  wc_frac = 0.00073 * (U10N - 2) ** 1.43\n"
     ]
    },
    {
     "name": "stdout",
     "output_type": "stream",
     "text": [
      "0      -177.93381873026356743139\n",
      "1      -127.94617750503587672029\n",
      "2        37.67760035614735159015\n",
      "3       191.99763974352174500382\n",
      "4       322.31155853830466639920\n",
      "                  ...           \n",
      "3190   -179.65746836390923135696\n",
      "3191   -184.44880130752599711741\n",
      "3192   -143.96421078038619612016\n",
      "3193     81.60699482269160398573\n",
      "3194    276.59889944612172030247\n",
      "Name: Qnet, Length: 3195, dtype: float64\n"
     ]
    }
   ],
   "source": [
    "import pandas as pd\n",
    "import scipy.io as sio\n",
    "from scipy import signal, stats\n",
    "import numpy as np\n",
    "import datetime\n",
    "import plotly.express as px\n",
    "from plotly.subplots import make_subplots\n",
    "import plotly.graph_objects as go\n",
    "import re\n",
    "import coare36vn_zrf_et\n",
    "import os\n",
    "\n",
    "riverDF = pd.read_csv('river_temperature13_14.csv', parse_dates = ['DN'])\n",
    "riverDF['hourDN'] = riverDF['DN'].dt.floor('h')\n",
    "\n",
    "hourlyMeanRiverDF = riverDF.groupby('hourDN').agg(hourlyTemp=('EstimatedTemp', \"mean\")).reset_index()\n",
    "hourlyMeanRiverDF['hourSalinity'] = 0\n",
    "\n",
    "heatFluxModelDF = pd.read_csv('river_2013-2014_flux.csv', parse_dates = ['Tm (UTC)'])\n",
    "heatFluxModelDF = pd.merge(left = hourlyMeanRiverDF, right = heatFluxModelDF, how = 'inner',  left_on = 'hourDN', right_on = 'Tm (UTC)')\n",
    "heatFluxModelDF = heatFluxModelDF.drop('Tm (UTC)', axis = 1)\n",
    "jdDateBase = pd.Timestamp('1858-11-17').to_julian_date()\n",
    "heatFluxModelDF['jdTimeStamp'] = heatFluxModelDF['hourDN'].apply(lambda x: x.to_julian_date()- jdDateBase)\n",
    "heatFluxModelDF = heatFluxModelDF.sort_values(['hourDN'], ascending = [True])\n",
    "pd.set_option('display.float_format', '{:.20f}'.format)\n",
    "\n",
    "\n",
    "\n",
    "A=coare36vn_zrf_et.coare36vn_zrf_et(heatFluxModelDF[\"U (m s-1)\"].to_numpy(), 10, heatFluxModelDF[\"Tair (degC)\"].to_numpy(),2, heatFluxModelDF[\"RH (%)\"].to_numpy(),2, heatFluxModelDF[\"P (mb)\"].to_numpy(), heatFluxModelDF[\"hourlyTemp\"].to_numpy(), heatFluxModelDF[\"SW_dn (W m-2)\"].to_numpy(), heatFluxModelDF[\"LW_dn (W m-2)\"].to_numpy(), heatFluxModelDF[\"Lat\"].to_numpy(), heatFluxModelDF[\"Lon\"].to_numpy(),heatFluxModelDF[\"jdTimeStamp\"].to_numpy(),600,0, heatFluxModelDF[\"hourSalinity\"].to_numpy(),None,None,10,10,10)\n",
    "\n",
    "fnameA = os.path.join(\"C:\\\\Users\\\\nvleb\\\\OneDrive - Oregon State University\\\\Desktop\\\\Python\\\\AlseaEstuaryData\\\\Alsea-Estuary-Data\",'test_13-14_output_river_heatflux.csv')\n",
    "# A=coare36vn_zrf_et(u, zu , t, zt, rh, zq, P, ts, sw_dn, lw_dn, lat, lon,jd, zi,rain, Ss, None , None, zrf_u, zrf_t, zrf_q)\n",
    "# fnameA = os.path.join(path,'test_36_output_py_082022_withnowavesinput.txt')\n",
    "A_hdr = 'usr\\ttau\\thsb\\thlb\\thbb\\thsbb\\thlwebb\\ttsr\\tqsr\\tzo\\tzot\\tzoq\\tCd\\t'\n",
    "A_hdr += 'Ch\\tCe\\tL\\tzeta\\tdT_skinx\\tdq_skinx\\tdz_skin\\tUrf\\tTrf\\tQrf\\t'\n",
    "A_hdr += 'RHrf\\tUrfN\\tTrfN\\tQrfN\\tlw_net\\tsw_net\\tLe\\trhoa\\tUN\\tU10\\tU10N\\t'\n",
    "A_hdr += 'Cdn_10\\tChn_10\\tCen_10\\thrain\\tQs\\tEvap\\tT10\\tT10N\\tQ10\\tQ10N\\tRH10\\t'\n",
    "A_hdr += 'P10\\trhoa10\\tgust\\twc_frac\\tEdis'\n",
    "csvHdr = A_hdr.replace(\"\\t\", \",\")\n",
    "np.savetxt(fnameA,A,fmt='%.18e',delimiter=',',header=csvHdr)\n",
    "\n",
    "processedDataDF = pd.read_csv('test_13-14_output_river_heatflux.csv')\n",
    "processedDataDF['Tm (UTC)'] = heatFluxModelDF['hourDN']\n",
    "\n",
    "processedDataDF[\"Qnet\"] = processedDataDF[\"sw_net\"] + processedDataDF[\"lw_net\"] - processedDataDF[\"hsb\"] - processedDataDF[\"hlb\"]\n",
    "print(processedDataDF[\"Qnet\"])\n"
   ]
  }
 ],
 "metadata": {
  "kernelspec": {
   "display_name": "Python 3",
   "language": "python",
   "name": "python3"
  },
  "language_info": {
   "codemirror_mode": {
    "name": "ipython",
    "version": 3
   },
   "file_extension": ".py",
   "mimetype": "text/x-python",
   "name": "python",
   "nbconvert_exporter": "python",
   "pygments_lexer": "ipython3",
   "version": "3.12.6"
  }
 },
 "nbformat": 4,
 "nbformat_minor": 2
}
