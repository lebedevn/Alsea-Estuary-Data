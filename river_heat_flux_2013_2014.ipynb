{
 "cells": [
  {
   "cell_type": "code",
   "execution_count": 25,
   "metadata": {},
   "outputs": [
    {
     "name": "stdout",
     "output_type": "stream",
     "text": [
      "0      2456596.12500000000000000000\n",
      "1      2456596.16666666651144623756\n",
      "2      2456596.20833333348855376244\n",
      "3      2456596.25000000000000000000\n",
      "4      2456596.29166666651144623756\n",
      "                   ...             \n",
      "3190   2456729.04166666651144623756\n",
      "3191   2456729.08333333348855376244\n",
      "3192   2456729.12500000000000000000\n",
      "3193   2456729.16666666651144623756\n",
      "3194   2456729.20833333348855376244\n",
      "Name: jdTimeStamp, Length: 3195, dtype: float64\n"
     ]
    }
   ],
   "source": [
    "import pandas as pd\n",
    "import scipy.io as sio\n",
    "from scipy import signal, stats\n",
    "import numpy as np\n",
    "import datetime\n",
    "import plotly.express as px\n",
    "from plotly.subplots import make_subplots\n",
    "import plotly.graph_objects as go\n",
    "import re\n",
    "\n",
    "riverDF = pd.read_csv('river_temperature13_14.csv', parse_dates = ['DN'])\n",
    "riverDF['hourDN'] = riverDF['DN'].dt.floor('h')\n",
    "\n",
    "hourlyMeanRiverDF = riverDF.groupby('hourDN').agg(hourlyTemp=('EstimatedTemp', \"mean\")).reset_index()\n",
    "hourlyMeanRiverDF['hourSalinity'] = 0\n",
    "\n",
    "heatFluxModelDF = pd.read_csv('river_2013-2014_flux.csv', parse_dates = ['Tm (UTC)'])\n",
    "heatFluxModelDF = pd.merge(left = hourlyMeanRiverDF, right = heatFluxModelDF, how = 'inner',  left_on = 'hourDN', right_on = 'Tm (UTC)')\n",
    "heatFluxModelDF = heatFluxModelDF.drop('Tm (UTC)', axis = 1)\n",
    "jdDateBase = pd.Timestamp('1858-11-17').to_julian_date()\n",
    "heatFluxModelDF['jdTimeStamp'] = heatFluxModelDF['hourDN'].apply(lambda x: x.to_julian_date()- jdDateBase)\n",
    "\n",
    "pd.set_option('display.float_format', '{:.20f}'.format)\n",
    "\n",
    "print(heatFluxModelDF['jdTimeStamp']+ jdDateBase)"
   ]
  }
 ],
 "metadata": {
  "kernelspec": {
   "display_name": "Python 3",
   "language": "python",
   "name": "python3"
  },
  "language_info": {
   "codemirror_mode": {
    "name": "ipython",
    "version": 3
   },
   "file_extension": ".py",
   "mimetype": "text/x-python",
   "name": "python",
   "nbconvert_exporter": "python",
   "pygments_lexer": "ipython3",
   "version": "3.12.6"
  }
 },
 "nbformat": 4,
 "nbformat_minor": 2
}
