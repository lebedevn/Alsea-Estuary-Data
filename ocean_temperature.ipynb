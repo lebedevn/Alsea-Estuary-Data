{
 "cells": [
  {
   "cell_type": "code",
   "execution_count": 41,
   "metadata": {},
   "outputs": [
    {
     "data": {
      "application/vnd.plotly.v1+json": {
       "config": {
        "plotlyServerURL": "https://plot.ly"
       },
       "data": [
        {
         "hovertemplate": "variable=BottomTempAtMaxSal<br>x=%{x}<br>value=%{y}<extra></extra>",
         "legendgroup": "BottomTempAtMaxSal",
         "line": {
          "color": "black",
          "dash": "solid"
         },
         "marker": {
          "symbol": "circle"
         },
         "mode": "lines",
         "name": "BottomTempAtMaxSal",
         "orientation": "v",
         "showlegend": true,
         "type": "scatter",
         "x": [
          "2012-12-12T19:15:00",
          "2012-12-13T17:25:00",
          "2012-12-14T21:20:00",
          "2012-12-15T10:15:00",
          "2012-12-16T20:15:00",
          "2012-12-17T09:05:00",
          "2012-12-18T12:45:00",
          "2012-12-19T14:00:00",
          "2012-12-20T02:10:00",
          "2012-12-21T15:25:00",
          "2012-12-22T17:00:00",
          "2012-12-23T17:30:00",
          "2012-12-24T07:30:00",
          "2012-12-25T07:45:00",
          "2012-12-26T08:30:00",
          "2012-12-27T20:10:00",
          "2012-12-28T09:35:00",
          "2012-12-29T21:25:00",
          "2012-12-30T21:45:00",
          "2012-12-31T10:00:00",
          "2013-01-01T11:20:00",
          "2013-01-02T10:45:00",
          "2013-01-03T13:20:00",
          "2013-01-04T14:25:00",
          "2013-01-05T02:15:00",
          "2013-01-06T04:00:00",
          "2013-01-07T15:30:00",
          "2013-01-08T17:35:00",
          "2013-01-09T17:00:00",
          "2013-01-10T19:40:00",
          "2013-01-11T17:35:00",
          "2013-01-12T08:25:00",
          "2013-01-13T10:05:00",
          "2013-01-14T22:35:00",
          "2013-01-15T12:15:00",
          "2013-01-16T13:15:00",
          "2013-01-17T13:45:00",
          "2013-01-18T02:35:00",
          "2013-01-19T00:00:00",
          "2013-01-25T18:55:00",
          "2013-01-26T08:00:00",
          "2013-01-27T07:55:00",
          "2013-01-28T21:10:00",
          "2013-01-29T09:20:00",
          "2013-01-30T11:05:00",
          "2013-01-31T11:20:00",
          "2013-02-01T23:50:00",
          "2013-02-02T12:25:00",
          "2013-02-03T01:45:00",
          "2013-02-04T13:50:00",
          "2013-02-05T13:55:00",
          "2013-02-06T14:50:00",
          "2013-02-07T16:30:00",
          "2013-02-08T07:20:00",
          "2013-02-09T19:45:00",
          "2013-02-10T20:30:00",
          "2013-02-11T19:35:00",
          "2013-02-12T23:25:00",
          "2013-02-13T00:00:00",
          "2013-02-14T10:10:00",
          "2013-02-15T11:15:00",
          "2013-02-16T12:00:00",
          "2013-02-17T12:40:00",
          "2013-02-18T14:20:00",
          "2013-02-19T15:30:00",
          "2013-02-20T05:40:00",
          "2013-02-21T06:15:00",
          "2013-02-22T18:15:00",
          "2013-02-23T18:20:00",
          "2013-02-24T19:40:00",
          "2013-02-25T07:45:00",
          "2013-02-26T21:00:00",
          "2013-02-27T21:35:00",
          "2013-02-28T10:10:00",
          "2013-03-01T00:20:00",
          "2013-03-02T13:15:00",
          "2013-03-03T12:00:00",
          "2013-03-04T00:00:00",
          "2013-03-09T18:35:00",
          "2013-03-10T07:10:00",
          "2013-03-11T08:15:00",
          "2013-03-12T08:30:00",
          "2013-03-13T21:00:00",
          "2013-03-14T09:00:00",
          "2013-03-15T00:35:00",
          "2013-03-16T10:35:00",
          "2013-03-17T10:40:00",
          "2013-03-18T00:35:00",
          "2013-03-19T02:00:00",
          "2013-03-21T17:25:00",
          "2013-03-22T05:30:00",
          "2013-03-23T17:50:00",
          "2013-03-24T07:05:00",
          "2013-03-25T19:25:00",
          "2013-03-26T06:00:00",
          "2013-03-27T08:10:00",
          "2013-03-28T20:15:00",
          "2013-03-29T07:20:00",
          "2013-03-30T00:00:00",
          "2013-03-30T10:20:00",
          "2013-03-31T10:35:00",
          "2013-04-01T00:15:00",
          "2013-04-02T00:35:00",
          "2013-04-03T13:30:00",
          "2013-04-04T03:50:00",
          "2013-04-05T03:25:00",
          "2013-04-06T04:50:00",
          "2013-04-07T05:10:00",
          "2013-04-08T18:55:00",
          "2013-04-09T18:50:00",
          "2013-04-10T08:10:00",
          "2013-04-11T20:50:00",
          "2013-04-12T08:50:00",
          "2013-04-13T21:50:00",
          "2013-04-14T10:00:00",
          "2013-04-15T10:40:00",
          "2013-04-16T11:15:00",
          "2013-04-17T12:05:00",
          "2013-04-18T02:15:00",
          "2013-04-19T14:10:00",
          "2013-04-20T15:45:00",
          "2013-04-21T17:05:00",
          "2013-04-22T17:55:00",
          "2013-04-23T17:55:00",
          "2013-04-24T18:40:00",
          "2013-04-25T19:35:00",
          "2013-04-26T19:20:00",
          "2013-04-27T07:00:00",
          "2013-04-28T09:40:00",
          "2013-04-29T22:50:00",
          "2013-04-30T11:20:00",
          "2013-05-01T12:25:00",
          "2013-05-02T13:40:00",
          "2013-05-03T15:05:00",
          "2013-05-04T15:35:00",
          "2013-05-05T17:00:00",
          "2013-05-06T05:35:00",
          "2013-05-07T06:15:00",
          "2013-05-08T19:35:00",
          "2013-05-09T07:35:00",
          "2013-05-10T08:05:00",
          "2013-05-11T08:50:00",
          "2013-05-12T09:25:00",
          "2013-05-13T23:15:00",
          "2013-05-14T00:00:00",
          "2013-05-15T11:05:00",
          "2013-05-16T11:55:00",
          "2013-05-17T11:20:00",
          "2013-05-18T13:50:00",
          "2013-05-19T02:30:00",
          "2013-05-20T16:00:00"
         ],
         "xaxis": "x",
         "y": [
          11.618816227346564,
          10.9646642327674,
          10.884436790617452,
          11.28836543073754,
          10.354782736059908,
          10.614492480895317,
          10.386018196473486,
          10.366996880080288,
          10.272744916889554,
          10.09830843312863,
          10.141627964773209,
          10.009813109961703,
          9.804330591074882,
          9.991501717784558,
          9.868900337292876,
          10.089795885538004,
          9.966095407492343,
          10.085807106296024,
          10.507974039597132,
          10.455381233647314,
          10.453905556153876,
          10.13671065198366,
          9.667334860247353,
          9.84839067606421,
          10.11941993528148,
          9.869850891605612,
          9.804304866673652,
          9.943089406291104,
          10.046895224318202,
          10.041671162563834,
          9.792823187466796,
          9.643819584596804,
          9.940542906726314,
          10.41912477493814,
          9.967699536973765,
          9.952610362869873,
          9.84376764215095,
          9.985618120459886,
          10.185374841522307,
          9.607596360567792,
          9.377487937020662,
          9.264895020628888,
          9.233797962404518,
          9.196882040275012,
          9.402899784189277,
          9.3066042005307,
          9.69869831150438,
          9.32070857587453,
          9.632396573280564,
          9.350100719234968,
          9.52719876117711,
          9.44949841414255,
          9.397100013317178,
          9.247700592919578,
          9.23761279467109,
          9.494500710943583,
          9.645885782338684,
          9.728615074151744,
          9.787314212343832,
          9.444140870128132,
          9.334336180606837,
          9.534899389159897,
          9.38974418027196,
          9.248894895215392,
          9.204900843156796,
          9.299096453003498,
          9.151697433626603,
          9.03078604942767,
          8.85392485771204,
          9.07559177208574,
          9.01279579216271,
          9.136342228936394,
          9.04050145271899,
          9.090025353686446,
          9.310874702650054,
          9.243493405662736,
          9.12866047242928,
          9.598462549034176,
          9.132234899016025,
          8.993046774476586,
          9.118400765949032,
          9.283206326934772,
          9.939874423244095,
          9.752217679541191,
          10.033177729663148,
          10.071196434295077,
          9.530669770050702,
          10.250436286589252,
          10.180395217577829,
          9.390886333408748,
          9.390109666614284,
          9.004301666657057,
          9.228478000117391,
          9.462863666318292,
          9.47022333320738,
          9.351202333320684,
          9.848817999902836,
          9.941576332919446,
          10.674229667586117,
          null,
          null,
          null,
          null,
          null,
          null,
          null,
          null,
          null,
          null,
          null,
          null,
          null,
          null,
          null,
          null,
          null,
          null,
          null,
          null,
          null,
          null,
          null,
          null,
          null,
          null,
          null,
          null,
          null,
          null,
          null,
          null,
          null,
          null,
          null,
          null,
          null,
          null,
          null,
          null,
          null,
          null,
          null,
          null,
          null,
          null,
          null,
          null,
          null,
          null,
          null,
          null
         ],
         "yaxis": "y"
        },
        {
         "hovertemplate": "variable=MiniTempAtMaxSal<br>x=%{x}<br>value=%{y}<extra></extra>",
         "legendgroup": "MiniTempAtMaxSal",
         "line": {
          "color": "purple",
          "dash": "solid"
         },
         "marker": {
          "symbol": "circle"
         },
         "mode": "lines",
         "name": "MiniTempAtMaxSal",
         "orientation": "v",
         "showlegend": true,
         "type": "scatter",
         "x": [
          "2012-12-12T19:15:00",
          "2012-12-13T17:25:00",
          "2012-12-14T21:20:00",
          "2012-12-15T10:15:00",
          "2012-12-16T20:15:00",
          "2012-12-17T09:05:00",
          "2012-12-18T12:45:00",
          "2012-12-19T14:00:00",
          "2012-12-20T02:10:00",
          "2012-12-21T15:25:00",
          "2012-12-22T17:00:00",
          "2012-12-23T17:30:00",
          "2012-12-24T07:30:00",
          "2012-12-25T07:45:00",
          "2012-12-26T08:30:00",
          "2012-12-27T20:10:00",
          "2012-12-28T09:35:00",
          "2012-12-29T21:25:00",
          "2012-12-30T21:45:00",
          "2012-12-31T10:00:00",
          "2013-01-01T11:20:00",
          "2013-01-02T10:45:00",
          "2013-01-03T13:20:00",
          "2013-01-04T14:25:00",
          "2013-01-05T02:15:00",
          "2013-01-06T04:00:00",
          "2013-01-07T15:30:00",
          "2013-01-08T17:35:00",
          "2013-01-09T17:00:00",
          "2013-01-10T19:40:00",
          "2013-01-11T17:35:00",
          "2013-01-12T08:25:00",
          "2013-01-13T10:05:00",
          "2013-01-14T22:35:00",
          "2013-01-15T12:15:00",
          "2013-01-16T13:15:00",
          "2013-01-17T13:45:00",
          "2013-01-18T02:35:00",
          "2013-01-19T00:00:00",
          "2013-01-25T18:55:00",
          "2013-01-26T08:00:00",
          "2013-01-27T07:55:00",
          "2013-01-28T21:10:00",
          "2013-01-29T09:20:00",
          "2013-01-30T11:05:00",
          "2013-01-31T11:20:00",
          "2013-02-01T23:50:00",
          "2013-02-02T12:25:00",
          "2013-02-03T01:45:00",
          "2013-02-04T13:50:00",
          "2013-02-05T13:55:00",
          "2013-02-06T14:50:00",
          "2013-02-07T16:30:00",
          "2013-02-08T07:20:00",
          "2013-02-09T19:45:00",
          "2013-02-10T20:30:00",
          "2013-02-11T19:35:00",
          "2013-02-12T23:25:00",
          "2013-02-13T00:00:00",
          "2013-02-14T10:10:00",
          "2013-02-15T11:15:00",
          "2013-02-16T12:00:00",
          "2013-02-17T12:40:00",
          "2013-02-18T14:20:00",
          "2013-02-19T15:30:00",
          "2013-02-20T05:40:00",
          "2013-02-21T06:15:00",
          "2013-02-22T18:15:00",
          "2013-02-23T18:20:00",
          "2013-02-24T19:40:00",
          "2013-02-25T07:45:00",
          "2013-02-26T21:00:00",
          "2013-02-27T21:35:00",
          "2013-02-28T10:10:00",
          "2013-03-01T00:20:00",
          "2013-03-02T13:15:00",
          "2013-03-03T12:00:00",
          "2013-03-04T00:00:00",
          "2013-03-09T18:35:00",
          "2013-03-10T07:10:00",
          "2013-03-11T08:15:00",
          "2013-03-12T08:30:00",
          "2013-03-13T21:00:00",
          "2013-03-14T09:00:00",
          "2013-03-15T00:35:00",
          "2013-03-16T10:35:00",
          "2013-03-17T10:40:00",
          "2013-03-18T00:35:00",
          "2013-03-19T02:00:00",
          "2013-03-21T17:25:00",
          "2013-03-22T05:30:00",
          "2013-03-23T17:50:00",
          "2013-03-24T07:05:00",
          "2013-03-25T19:25:00",
          "2013-03-26T06:00:00",
          "2013-03-27T08:10:00",
          "2013-03-28T20:15:00",
          "2013-03-29T07:20:00",
          "2013-03-30T00:00:00",
          "2013-03-30T10:20:00",
          "2013-03-31T10:35:00",
          "2013-04-01T00:15:00",
          "2013-04-02T00:35:00",
          "2013-04-03T13:30:00",
          "2013-04-04T03:50:00",
          "2013-04-05T03:25:00",
          "2013-04-06T04:50:00",
          "2013-04-07T05:10:00",
          "2013-04-08T18:55:00",
          "2013-04-09T18:50:00",
          "2013-04-10T08:10:00",
          "2013-04-11T20:50:00",
          "2013-04-12T08:50:00",
          "2013-04-13T21:50:00",
          "2013-04-14T10:00:00",
          "2013-04-15T10:40:00",
          "2013-04-16T11:15:00",
          "2013-04-17T12:05:00",
          "2013-04-18T02:15:00",
          "2013-04-19T14:10:00",
          "2013-04-20T15:45:00",
          "2013-04-21T17:05:00",
          "2013-04-22T17:55:00",
          "2013-04-23T17:55:00",
          "2013-04-24T18:40:00",
          "2013-04-25T19:35:00",
          "2013-04-26T19:20:00",
          "2013-04-27T07:00:00",
          "2013-04-28T09:40:00",
          "2013-04-29T22:50:00",
          "2013-04-30T11:20:00",
          "2013-05-01T12:25:00",
          "2013-05-02T13:40:00",
          "2013-05-03T15:05:00",
          "2013-05-04T15:35:00",
          "2013-05-05T17:00:00",
          "2013-05-06T05:35:00",
          "2013-05-07T06:15:00",
          "2013-05-08T19:35:00",
          "2013-05-09T07:35:00",
          "2013-05-10T08:05:00",
          "2013-05-11T08:50:00",
          "2013-05-12T09:25:00",
          "2013-05-13T23:15:00",
          "2013-05-14T00:00:00",
          "2013-05-15T11:05:00",
          "2013-05-16T11:55:00",
          "2013-05-17T11:20:00",
          "2013-05-18T13:50:00",
          "2013-05-19T02:30:00",
          "2013-05-20T16:00:00"
         ],
         "xaxis": "x",
         "y": [
          null,
          null,
          null,
          null,
          null,
          null,
          null,
          null,
          null,
          null,
          null,
          null,
          null,
          null,
          null,
          null,
          null,
          null,
          null,
          null,
          null,
          null,
          null,
          null,
          null,
          null,
          null,
          null,
          null,
          null,
          null,
          null,
          null,
          null,
          null,
          null,
          null,
          null,
          null,
          null,
          9.19,
          9.19,
          8.93,
          8.96,
          9.06,
          8.99,
          9.09,
          9.09,
          9.13,
          9.16,
          9.16,
          9.3,
          9.230000000670554,
          9.13,
          8.96,
          9.249999999329448,
          9.32,
          9.28,
          9.28,
          9.36,
          9.19,
          9.33,
          9.33,
          8.99,
          8.98,
          8.98,
          8.88,
          8.790000001676379,
          8.559999999329449,
          8.649999999664724,
          8.649999999664724,
          8.660000000335275,
          8.810000000335277,
          8.88,
          8.88,
          9.02,
          9.02,
          9.52,
          8.559999999664724,
          8.559999999664724,
          8.75,
          8.929999999664723,
          9.430000000670551,
          9.730000001341104,
          9.730000001341104,
          9.719999999329447,
          9.719999999329447,
          10.24,
          10.24,
          9.190000000335276,
          9.190000000335276,
          9.190000000335276,
          9.190000000335276,
          9.470000000335276,
          9.470000000335276,
          9.43,
          10.09,
          10.09,
          10.010000000670551,
          9.390000000670554,
          9.34,
          10.589999999664723,
          10.58,
          10.38,
          10.94000000167638,
          10.67,
          10.53,
          10.530000000670553,
          10.28999999899417,
          10.119999999664724,
          10.19,
          10.560000000670554,
          10.160000000670552,
          10.839999999664723,
          10.250000000335277,
          10.110000000335276,
          10.24,
          10.04,
          11.45,
          10.969999999664724,
          10.67,
          10.26,
          10.07,
          8.82,
          8.9,
          9.34,
          9,
          8.72,
          9.05,
          11.37,
          9.47,
          8.58,
          8.65,
          8.95,
          8.54,
          8.58,
          8.63,
          10.24,
          10.97,
          10.94,
          10.94,
          10.05,
          11.18,
          11.71,
          11.81,
          11.13,
          12.33,
          12.32,
          12.81,
          13.48,
          10.77
         ],
         "yaxis": "y"
        }
       ],
       "layout": {
        "legend": {
         "title": {
          "text": "variable"
         },
         "tracegroupgap": 0
        },
        "template": {
         "data": {
          "bar": [
           {
            "error_x": {
             "color": "#2a3f5f"
            },
            "error_y": {
             "color": "#2a3f5f"
            },
            "marker": {
             "line": {
              "color": "#E5ECF6",
              "width": 0.5
             },
             "pattern": {
              "fillmode": "overlay",
              "size": 10,
              "solidity": 0.2
             }
            },
            "type": "bar"
           }
          ],
          "barpolar": [
           {
            "marker": {
             "line": {
              "color": "#E5ECF6",
              "width": 0.5
             },
             "pattern": {
              "fillmode": "overlay",
              "size": 10,
              "solidity": 0.2
             }
            },
            "type": "barpolar"
           }
          ],
          "carpet": [
           {
            "aaxis": {
             "endlinecolor": "#2a3f5f",
             "gridcolor": "white",
             "linecolor": "white",
             "minorgridcolor": "white",
             "startlinecolor": "#2a3f5f"
            },
            "baxis": {
             "endlinecolor": "#2a3f5f",
             "gridcolor": "white",
             "linecolor": "white",
             "minorgridcolor": "white",
             "startlinecolor": "#2a3f5f"
            },
            "type": "carpet"
           }
          ],
          "choropleth": [
           {
            "colorbar": {
             "outlinewidth": 0,
             "ticks": ""
            },
            "type": "choropleth"
           }
          ],
          "contour": [
           {
            "colorbar": {
             "outlinewidth": 0,
             "ticks": ""
            },
            "colorscale": [
             [
              0,
              "#0d0887"
             ],
             [
              0.1111111111111111,
              "#46039f"
             ],
             [
              0.2222222222222222,
              "#7201a8"
             ],
             [
              0.3333333333333333,
              "#9c179e"
             ],
             [
              0.4444444444444444,
              "#bd3786"
             ],
             [
              0.5555555555555556,
              "#d8576b"
             ],
             [
              0.6666666666666666,
              "#ed7953"
             ],
             [
              0.7777777777777778,
              "#fb9f3a"
             ],
             [
              0.8888888888888888,
              "#fdca26"
             ],
             [
              1,
              "#f0f921"
             ]
            ],
            "type": "contour"
           }
          ],
          "contourcarpet": [
           {
            "colorbar": {
             "outlinewidth": 0,
             "ticks": ""
            },
            "type": "contourcarpet"
           }
          ],
          "heatmap": [
           {
            "colorbar": {
             "outlinewidth": 0,
             "ticks": ""
            },
            "colorscale": [
             [
              0,
              "#0d0887"
             ],
             [
              0.1111111111111111,
              "#46039f"
             ],
             [
              0.2222222222222222,
              "#7201a8"
             ],
             [
              0.3333333333333333,
              "#9c179e"
             ],
             [
              0.4444444444444444,
              "#bd3786"
             ],
             [
              0.5555555555555556,
              "#d8576b"
             ],
             [
              0.6666666666666666,
              "#ed7953"
             ],
             [
              0.7777777777777778,
              "#fb9f3a"
             ],
             [
              0.8888888888888888,
              "#fdca26"
             ],
             [
              1,
              "#f0f921"
             ]
            ],
            "type": "heatmap"
           }
          ],
          "heatmapgl": [
           {
            "colorbar": {
             "outlinewidth": 0,
             "ticks": ""
            },
            "colorscale": [
             [
              0,
              "#0d0887"
             ],
             [
              0.1111111111111111,
              "#46039f"
             ],
             [
              0.2222222222222222,
              "#7201a8"
             ],
             [
              0.3333333333333333,
              "#9c179e"
             ],
             [
              0.4444444444444444,
              "#bd3786"
             ],
             [
              0.5555555555555556,
              "#d8576b"
             ],
             [
              0.6666666666666666,
              "#ed7953"
             ],
             [
              0.7777777777777778,
              "#fb9f3a"
             ],
             [
              0.8888888888888888,
              "#fdca26"
             ],
             [
              1,
              "#f0f921"
             ]
            ],
            "type": "heatmapgl"
           }
          ],
          "histogram": [
           {
            "marker": {
             "pattern": {
              "fillmode": "overlay",
              "size": 10,
              "solidity": 0.2
             }
            },
            "type": "histogram"
           }
          ],
          "histogram2d": [
           {
            "colorbar": {
             "outlinewidth": 0,
             "ticks": ""
            },
            "colorscale": [
             [
              0,
              "#0d0887"
             ],
             [
              0.1111111111111111,
              "#46039f"
             ],
             [
              0.2222222222222222,
              "#7201a8"
             ],
             [
              0.3333333333333333,
              "#9c179e"
             ],
             [
              0.4444444444444444,
              "#bd3786"
             ],
             [
              0.5555555555555556,
              "#d8576b"
             ],
             [
              0.6666666666666666,
              "#ed7953"
             ],
             [
              0.7777777777777778,
              "#fb9f3a"
             ],
             [
              0.8888888888888888,
              "#fdca26"
             ],
             [
              1,
              "#f0f921"
             ]
            ],
            "type": "histogram2d"
           }
          ],
          "histogram2dcontour": [
           {
            "colorbar": {
             "outlinewidth": 0,
             "ticks": ""
            },
            "colorscale": [
             [
              0,
              "#0d0887"
             ],
             [
              0.1111111111111111,
              "#46039f"
             ],
             [
              0.2222222222222222,
              "#7201a8"
             ],
             [
              0.3333333333333333,
              "#9c179e"
             ],
             [
              0.4444444444444444,
              "#bd3786"
             ],
             [
              0.5555555555555556,
              "#d8576b"
             ],
             [
              0.6666666666666666,
              "#ed7953"
             ],
             [
              0.7777777777777778,
              "#fb9f3a"
             ],
             [
              0.8888888888888888,
              "#fdca26"
             ],
             [
              1,
              "#f0f921"
             ]
            ],
            "type": "histogram2dcontour"
           }
          ],
          "mesh3d": [
           {
            "colorbar": {
             "outlinewidth": 0,
             "ticks": ""
            },
            "type": "mesh3d"
           }
          ],
          "parcoords": [
           {
            "line": {
             "colorbar": {
              "outlinewidth": 0,
              "ticks": ""
             }
            },
            "type": "parcoords"
           }
          ],
          "pie": [
           {
            "automargin": true,
            "type": "pie"
           }
          ],
          "scatter": [
           {
            "fillpattern": {
             "fillmode": "overlay",
             "size": 10,
             "solidity": 0.2
            },
            "type": "scatter"
           }
          ],
          "scatter3d": [
           {
            "line": {
             "colorbar": {
              "outlinewidth": 0,
              "ticks": ""
             }
            },
            "marker": {
             "colorbar": {
              "outlinewidth": 0,
              "ticks": ""
             }
            },
            "type": "scatter3d"
           }
          ],
          "scattercarpet": [
           {
            "marker": {
             "colorbar": {
              "outlinewidth": 0,
              "ticks": ""
             }
            },
            "type": "scattercarpet"
           }
          ],
          "scattergeo": [
           {
            "marker": {
             "colorbar": {
              "outlinewidth": 0,
              "ticks": ""
             }
            },
            "type": "scattergeo"
           }
          ],
          "scattergl": [
           {
            "marker": {
             "colorbar": {
              "outlinewidth": 0,
              "ticks": ""
             }
            },
            "type": "scattergl"
           }
          ],
          "scattermapbox": [
           {
            "marker": {
             "colorbar": {
              "outlinewidth": 0,
              "ticks": ""
             }
            },
            "type": "scattermapbox"
           }
          ],
          "scatterpolar": [
           {
            "marker": {
             "colorbar": {
              "outlinewidth": 0,
              "ticks": ""
             }
            },
            "type": "scatterpolar"
           }
          ],
          "scatterpolargl": [
           {
            "marker": {
             "colorbar": {
              "outlinewidth": 0,
              "ticks": ""
             }
            },
            "type": "scatterpolargl"
           }
          ],
          "scatterternary": [
           {
            "marker": {
             "colorbar": {
              "outlinewidth": 0,
              "ticks": ""
             }
            },
            "type": "scatterternary"
           }
          ],
          "surface": [
           {
            "colorbar": {
             "outlinewidth": 0,
             "ticks": ""
            },
            "colorscale": [
             [
              0,
              "#0d0887"
             ],
             [
              0.1111111111111111,
              "#46039f"
             ],
             [
              0.2222222222222222,
              "#7201a8"
             ],
             [
              0.3333333333333333,
              "#9c179e"
             ],
             [
              0.4444444444444444,
              "#bd3786"
             ],
             [
              0.5555555555555556,
              "#d8576b"
             ],
             [
              0.6666666666666666,
              "#ed7953"
             ],
             [
              0.7777777777777778,
              "#fb9f3a"
             ],
             [
              0.8888888888888888,
              "#fdca26"
             ],
             [
              1,
              "#f0f921"
             ]
            ],
            "type": "surface"
           }
          ],
          "table": [
           {
            "cells": {
             "fill": {
              "color": "#EBF0F8"
             },
             "line": {
              "color": "white"
             }
            },
            "header": {
             "fill": {
              "color": "#C8D4E3"
             },
             "line": {
              "color": "white"
             }
            },
            "type": "table"
           }
          ]
         },
         "layout": {
          "annotationdefaults": {
           "arrowcolor": "#2a3f5f",
           "arrowhead": 0,
           "arrowwidth": 1
          },
          "autotypenumbers": "strict",
          "coloraxis": {
           "colorbar": {
            "outlinewidth": 0,
            "ticks": ""
           }
          },
          "colorscale": {
           "diverging": [
            [
             0,
             "#8e0152"
            ],
            [
             0.1,
             "#c51b7d"
            ],
            [
             0.2,
             "#de77ae"
            ],
            [
             0.3,
             "#f1b6da"
            ],
            [
             0.4,
             "#fde0ef"
            ],
            [
             0.5,
             "#f7f7f7"
            ],
            [
             0.6,
             "#e6f5d0"
            ],
            [
             0.7,
             "#b8e186"
            ],
            [
             0.8,
             "#7fbc41"
            ],
            [
             0.9,
             "#4d9221"
            ],
            [
             1,
             "#276419"
            ]
           ],
           "sequential": [
            [
             0,
             "#0d0887"
            ],
            [
             0.1111111111111111,
             "#46039f"
            ],
            [
             0.2222222222222222,
             "#7201a8"
            ],
            [
             0.3333333333333333,
             "#9c179e"
            ],
            [
             0.4444444444444444,
             "#bd3786"
            ],
            [
             0.5555555555555556,
             "#d8576b"
            ],
            [
             0.6666666666666666,
             "#ed7953"
            ],
            [
             0.7777777777777778,
             "#fb9f3a"
            ],
            [
             0.8888888888888888,
             "#fdca26"
            ],
            [
             1,
             "#f0f921"
            ]
           ],
           "sequentialminus": [
            [
             0,
             "#0d0887"
            ],
            [
             0.1111111111111111,
             "#46039f"
            ],
            [
             0.2222222222222222,
             "#7201a8"
            ],
            [
             0.3333333333333333,
             "#9c179e"
            ],
            [
             0.4444444444444444,
             "#bd3786"
            ],
            [
             0.5555555555555556,
             "#d8576b"
            ],
            [
             0.6666666666666666,
             "#ed7953"
            ],
            [
             0.7777777777777778,
             "#fb9f3a"
            ],
            [
             0.8888888888888888,
             "#fdca26"
            ],
            [
             1,
             "#f0f921"
            ]
           ]
          },
          "colorway": [
           "#636efa",
           "#EF553B",
           "#00cc96",
           "#ab63fa",
           "#FFA15A",
           "#19d3f3",
           "#FF6692",
           "#B6E880",
           "#FF97FF",
           "#FECB52"
          ],
          "font": {
           "color": "#2a3f5f"
          },
          "geo": {
           "bgcolor": "white",
           "lakecolor": "white",
           "landcolor": "#E5ECF6",
           "showlakes": true,
           "showland": true,
           "subunitcolor": "white"
          },
          "hoverlabel": {
           "align": "left"
          },
          "hovermode": "closest",
          "mapbox": {
           "style": "light"
          },
          "paper_bgcolor": "white",
          "plot_bgcolor": "#E5ECF6",
          "polar": {
           "angularaxis": {
            "gridcolor": "white",
            "linecolor": "white",
            "ticks": ""
           },
           "bgcolor": "#E5ECF6",
           "radialaxis": {
            "gridcolor": "white",
            "linecolor": "white",
            "ticks": ""
           }
          },
          "scene": {
           "xaxis": {
            "backgroundcolor": "#E5ECF6",
            "gridcolor": "white",
            "gridwidth": 2,
            "linecolor": "white",
            "showbackground": true,
            "ticks": "",
            "zerolinecolor": "white"
           },
           "yaxis": {
            "backgroundcolor": "#E5ECF6",
            "gridcolor": "white",
            "gridwidth": 2,
            "linecolor": "white",
            "showbackground": true,
            "ticks": "",
            "zerolinecolor": "white"
           },
           "zaxis": {
            "backgroundcolor": "#E5ECF6",
            "gridcolor": "white",
            "gridwidth": 2,
            "linecolor": "white",
            "showbackground": true,
            "ticks": "",
            "zerolinecolor": "white"
           }
          },
          "shapedefaults": {
           "line": {
            "color": "#2a3f5f"
           }
          },
          "ternary": {
           "aaxis": {
            "gridcolor": "white",
            "linecolor": "white",
            "ticks": ""
           },
           "baxis": {
            "gridcolor": "white",
            "linecolor": "white",
            "ticks": ""
           },
           "bgcolor": "#E5ECF6",
           "caxis": {
            "gridcolor": "white",
            "linecolor": "white",
            "ticks": ""
           }
          },
          "title": {
           "x": 0.05
          },
          "xaxis": {
           "automargin": true,
           "gridcolor": "white",
           "linecolor": "white",
           "ticks": "",
           "title": {
            "standoff": 15
           },
           "zerolinecolor": "white",
           "zerolinewidth": 2
          },
          "yaxis": {
           "automargin": true,
           "gridcolor": "white",
           "linecolor": "white",
           "ticks": "",
           "title": {
            "standoff": 15
           },
           "zerolinecolor": "white",
           "zerolinewidth": 2
          }
         }
        },
        "title": {
         "font": {
          "size": 25
         },
         "text": "Ocean Temperature for 2012-2013"
        },
        "xaxis": {
         "anchor": "y",
         "domain": [
          0,
          1
         ],
         "range": [
          "2012-12-10T00:00:00",
          "2013-05-26T00:00:00"
         ],
         "rangeslider": {
          "visible": true
         },
         "tickangle": 30,
         "title": {
          "text": "x"
         }
        },
        "yaxis": {
         "anchor": "x",
         "domain": [
          0,
          1
         ],
         "title": {
          "text": "value"
         }
        }
       }
      }
     },
     "metadata": {},
     "output_type": "display_data"
    }
   ],
   "source": [
    "import pandas as pd\n",
    "import scipy.io as sio\n",
    "import numpy as np\n",
    "import datetime\n",
    "import plotly.express as px\n",
    "from plotly.subplots import make_subplots\n",
    "import plotly.graph_objects as go\n",
    "import re\n",
    "\n",
    "downRiverDF = pd.read_csv('downriver_2012_2013_processed.csv', parse_dates = ['DN'])\n",
    "minilanderDF = pd.read_csv('minilander_2012_2013_processed.csv', parse_dates = ['DN'])\n",
    "\n",
    "#create day DN to separate out data values by day instead of 5 min intervals\n",
    "downRiverDF['dayDN'] = downRiverDF['DN'].dt.floor('D')\n",
    "minilanderDF['dayDN'] = minilanderDF['DN'].dt.floor('D')\n",
    "#takes highest sal values by day and collects idx, then converts floats to integers\n",
    "idxMaxDownArray = downRiverDF.groupby(\"dayDN\")[\"BottomSalCorrected\"].idxmax().ffill().astype('Int64').to_numpy()\n",
    "idxMaxMiniArray = minilanderDF.groupby(\"dayDN\")[\"Salinity\"].idxmax().ffill().bfill().astype('Int64').to_numpy()\n",
    "\n",
    "#filter data frame from NAN duplicates created in previous step\n",
    "salToTempDownDF = downRiverDF.loc[idxMaxDownArray].drop_duplicates()\n",
    "salToTempMiniDF = minilanderDF.loc[idxMaxMiniArray].drop_duplicates()\n",
    "\n",
    "#trying to combine so that both arrays are same length\n",
    "combinedDF = pd.merge_asof(salToTempDownDF, salToTempMiniDF, on = 'DN')[[\"DN\", \"BottomTemp\", \"Temperature\"]]\n",
    "maxDN = combinedDF[\"DN\"].max()\n",
    "salToTempMiniDF[\"BottomTemp\"] = np.nan\n",
    "#combining tail of minilander data to other data\n",
    "combinedDF = pd.concat([combinedDF, salToTempMiniDF.loc[salToTempMiniDF['DN']>maxDN][[\"DN\", \"BottomTemp\", \"Temperature\"]]])\n",
    "\n",
    "#plot ocean temperature\n",
    "tempFigLabels = ['BottomTempAtMaxSal', 'MiniTempAtMaxSal']\n",
    "tempfig = px.line(x = combinedDF['DN'], y = [combinedDF[\"BottomTemp\"], combinedDF[\"Temperature\"]], color_discrete_sequence= [\"black\", \"purple\"], title = \"Temperature\")\n",
    "for idx in range(len(tempFigLabels)):\n",
    "    tempfig.data[idx].name = tempFigLabels[idx]\n",
    "    tempfig.data[idx].hovertemplate = 'variable=' + tempFigLabels[idx] + '<br>x=%{x}<br>value=%{y}<extra></extra>'\n",
    "    tempfig.data[idx].legendgroup = tempFigLabels[idx]\n",
    "\n",
    "tempfig.update_layout(title=dict(text= \"Ocean Temperature for 2012-2013\", font=dict(size=25)))\n",
    "tempfig.update_xaxes(tickangle=30)\n",
    "tempfig.update_xaxes(rangeslider_visible=True)\n",
    "tempfig.update_xaxes(range = [pd.Timestamp('2012-12-10'),pd.Timestamp('2013-05-26')])\n",
    "\n",
    "tempfig.show() \n"
   ]
  }
 ],
 "metadata": {
  "kernelspec": {
   "display_name": "Python 3",
   "language": "python",
   "name": "python3"
  },
  "language_info": {
   "codemirror_mode": {
    "name": "ipython",
    "version": 3
   },
   "file_extension": ".py",
   "mimetype": "text/x-python",
   "name": "python",
   "nbconvert_exporter": "python",
   "pygments_lexer": "ipython3",
   "version": "3.12.6"
  }
 },
 "nbformat": 4,
 "nbformat_minor": 2
}
